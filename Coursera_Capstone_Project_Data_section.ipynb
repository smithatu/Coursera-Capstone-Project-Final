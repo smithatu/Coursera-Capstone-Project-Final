{
    "nbformat_minor": 1, 
    "cells": [
        {
            "source": "# Coursera Capstone Project\n\n# <span style=\"color:maroon\"> A Recommender System for choosing best neighborhood based on ameneties</span>", 
            "cell_type": "markdown", 
            "metadata": {
                "collapsed": true
            }
        }, 
        {
            "source": "### Data ", 
            "cell_type": "markdown", 
            "metadata": {}
        }, 
        {
            "source": "To build the recommender sysytem, the first thing we need is the data containing the geographical coordinates of the boroughs and the neighborhoods within them. In our case it was data pertaining to Toronto and it's neighborhood. We specifically selected only East Toronto, West Toronto, Central Toronto and Downtown Toronto.We identified the neighborhoods within these boroughs using postal codes and got the geo - coordinates for them. We got the postal code information about Toronto and it's neighborhoods from a Wikipedia page 'https://en.wikipedia.org/wiki/List_of_postal_codes_of_Canada:_M'.  We used a geospatial data which contains the geographical coordinates of these postal codes. We can take the help of tool also to get these coordinates. So once we have this data, the next step is to get the information pertaining to the amenities available in these neighborhoods. For that we took the help of  \"**Four Square**\" location data. ***Foursquare is a local search-and-discovery service mobile app which provides search results for its users.***\n\nWe used the Four Square APIs to explore the neighborhoods of Toronto.We used the **explore** function to get the most common venue categories in each neighborhood and **search** function to get information pertaining to specific amenities, for eg : Hospitals, Schools etc. available in each neighborhoods. Once we have Information pertaining to popular venues in each neighborhood, their category etc, we categorize them into subheads like \"Food and Dine\", \"Stores /Utilities\" etc. With Four Square search query we can get information pertaining to specific amenities, i.e if we want to know the details of \"schools and educational institutions\" in each neighborhood or if we want to know the details of \"Hospitals\" in each neighborhood etc.\n\nWe use this refined data as a starting point for our analysis.", 
            "cell_type": "markdown", 
            "metadata": {}
        }
    ], 
    "metadata": {
        "kernelspec": {
            "display_name": "Python 3.5", 
            "name": "python3", 
            "language": "python"
        }, 
        "language_info": {
            "mimetype": "text/x-python", 
            "nbconvert_exporter": "python", 
            "version": "3.5.5", 
            "name": "python", 
            "file_extension": ".py", 
            "pygments_lexer": "ipython3", 
            "codemirror_mode": {
                "version": 3, 
                "name": "ipython"
            }
        }
    }, 
    "nbformat": 4
}