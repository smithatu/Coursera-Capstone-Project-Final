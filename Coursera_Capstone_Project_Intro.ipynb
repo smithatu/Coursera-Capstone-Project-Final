{
    "nbformat_minor": 1, 
    "cells": [
        {
            "source": "# Coursera Capstone Project\n\n# <span style=\"color:maroon\"> A Recommender System for choosing best neighborhood based on ameneties</span>", 
            "cell_type": "markdown", 
            "metadata": {
                "collapsed": true
            }
        }, 
        {
            "source": "### Introduction", 
            "cell_type": "markdown", 
            "metadata": {}
        }, 
        {
            "source": "### Business Problem\nAn individual migrating to Canada, specifically to Toronto, needs information on the potential neighborhoods in and around Toronto where he can scout for a decent apartment. ***Is it possible for an Individual to get a detailed information about possible neighborhoods in and around Toronto and also the amenties that are available in those neighborhoods even before starting his Journey?***\n\nA prior hand information about various neighborhoods, and facilities available in and around those neighborhoods will be of tremendous value and can help the person to take more informed decision by zeroing in on the neighborhoods that meet his specific requirements.Since the Individual can get all this information even before being physically present there, he can save time and resources that would otherwise have been spent scanning neighborhoods and the facilites they offer.\n\n##### Potential Solution\n\nThe Recommender System is a potential solution **targeted at those potential Immigrants who plan to migrate and settle abroad (Toronto in this case). This System can be adapted to any province or for that matter any country in the world as  long as we have Geo-locational data available.** In this case we have incorporated data pertaining to Utilities, Hospitals, Educational Institutions, Restaurants etc. to suggest the best neighborhood, but this sytem is scalable and can be changed as per specific needs.The system will cluster neighborhoods based on available ameneties and suggest the best cluster. This is better, since individual is provided with information about multiple neighborhoods which are similar in terms of available ameneties. He can knitpick what's important for him and choose the location that suits him the best.\n\n**The Recommender System will be of tremendous help to any potential immigrant planning to migrate to any corner of the world, as he would have a first hand detailed information about the place he is going even before being there.**", 
            "cell_type": "markdown", 
            "metadata": {}
        }
    ], 
    "metadata": {
        "kernelspec": {
            "display_name": "Python 3.5", 
            "name": "python3", 
            "language": "python"
        }, 
        "language_info": {
            "mimetype": "text/x-python", 
            "nbconvert_exporter": "python", 
            "version": "3.5.5", 
            "name": "python", 
            "file_extension": ".py", 
            "pygments_lexer": "ipython3", 
            "codemirror_mode": {
                "version": 3, 
                "name": "ipython"
            }
        }
    }, 
    "nbformat": 4
}