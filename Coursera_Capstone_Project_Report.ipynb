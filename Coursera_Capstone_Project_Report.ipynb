{
    "nbformat_minor": 1, 
    "cells": [
        {
            "source": "# Coursera Capstone Project\n\n# <span style=\"color:maroon\"> A Recommender System for choosing best neighborhood based on ameneties</span>", 
            "cell_type": "markdown", 
            "metadata": {
                "collapsed": true
            }
        }, 
        {
            "source": "### 1 . Introduction", 
            "cell_type": "markdown", 
            "metadata": {}
        }, 
        {
            "source": "### Business Problem\nAn individual migrating to Canada, specifically to Toronto, needs information on the potential neighborhoods in and around Toronto where he can scout for a decent apartment. ***Is it possible for an Individual to get a detailed information about possible neighborhoods in and around Toronto and also the amenties that are available in those neighborhoods even before starting his Journey?***\n\nA prior hand information about various neighborhoods, and facilities available in and around those neighborhoods will be of tremendous value and can help the person to take more informed decision by zeroing in on the neighborhoods that meet his specific requirements.Since the Individual can get all this information even before being physically present there, he can save time and resources that would otherwise have been spent scanning neighborhoods and the facilites they offer.\n\n##### Potential Solution\n\nThe Recommender System is a potential solution **targeted at those potential Immigrants who plan to migrate and settle abroad (Toronto in this case). This System can be adapted to any province or for that matter any country in the world as  long as we have Geo-locational data available.** In this case we have incorporated data pertaining to Utilities, Hospitals, Educational Institutions, Restaurants etc. to suggest the best neighborhood, but this sytem is scalable and can be changed as per specific needs.The system will cluster neighborhoods based on available ameneties and suggest the best cluster. This is better, since individual is provided with information about multiple neighborhoods which are similar in terms of available ameneties. He can knitpick what's important for him and choose the location that suits him the best.\n\n**The Recommender System will be of tremendous help to any potential immigrant planning to migrate to any corner of the world, as he would have a first hand detailed information about the place he is going even before being there.**", 
            "cell_type": "markdown", 
            "metadata": {}
        }, 
        {
            "source": "### 2 . Data", 
            "cell_type": "markdown", 
            "metadata": {}
        }, 
        {
            "source": "To build the recommender sysytem, the first thing we need is the data containing the geographical coordinates of the boroughs and the neighborhoods within them. In our case it was data pertaining to Toronto and it's neighborhood. We specifically selected only East Toronto, West Toronto, Central Toronto and Downtown Toronto.We identified the neighborhoods within these boroughs using postal codes and got the geo - coordinates for them. We got the postal code information about Toronto and it's neighborhoods from a Wikipedia page 'https://en.wikipedia.org/wiki/List_of_postal_codes_of_Canada:_M'.  We used a geospatial data which contains the geographical coordinates of these postal codes. We can take the help of tool also to get these coordinates. So once we have this data, the next step is to get the information pertaining to the amenities available in these neighborhoods. For that we took the help of  \"**Four Square**\" location data. ***Foursquare is a local search-and-discovery service mobile app which provides search results for its users.***\n\nWe used the Four Square APIs to explore the neighborhoods of Toronto.We used the **explore** function to get the most common venue categories in each neighborhood and **search** function to get information pertaining to specific amenities, for eg : Hospitals, Schools etc. available in each neighborhoods. Once we have Information pertaining to popular venues in each neighborhood, their category etc, we categorize them into subheads like \"Food and Dine\", \"Stores /Utilities\" etc. With Four Square search query we can get information pertaining to specific amenities, i.e if we want to know the details of \"schools and educational institutions\" in each neighborhood or if we want to know the details of \"Hospitals\" in each neighborhood etc.\n\nWe use this refined data as a starting point for our analysis.\n\n**Example of the Neighborhood data got from the Wikepedia page**\n\n|  Postcode  |  Borough        |  Neighborhood      |\n|------------|-----------------|--------------------|\n|  M4E       |  East Toronto   |   The Beaches      |\n\n**Example of the Geo spatial data** \n\n| Postcode   |  Latitude       | Longitude   |\n|------------|-----------------|-------------|\n|   M4E      |   43.676357     | -79.293031  |\n\n**Example from a Four Square Explore API, converted to a dataFrame**\n\n| Neighbourhood  |Neighbourhood Latitude|Neighbhourhood Longitude|Venue            | Venue Latitude   |  Venue Longitude  | Venue Category   |\n|----------------|----------------------|------------------------|-----------------|------------------|-------------------|------------------|\n|  The Beaches   |     43.676357        |     -79.293031         |Beaches Bake shop|      43.680363   | -79.289692        |   Bakery         |\n\n", 
            "cell_type": "markdown", 
            "metadata": {}
        }, 
        {
            "source": "### 3 . Methodology", 
            "cell_type": "markdown", 
            "metadata": {}
        }, 
        {
            "source": "To suggest the best neighborhood in Toronto, first we need to identify the neighbourhoods in Toronto.\n\nWikipedia page namely https://en.wikipedia.org/wiki/List_of_postal_codes_of_Canada:_M exists that has all the information about the neighbourhoods in Toronto we need to explore and cluster the neighbourhoods in Toronto. For our analysis we considered only \u201cCentral Toronto\u201d, \u201cEast Toronto\u201d, \u201cWest Toronto\u201d and \u201cDowntown Toronto\u201d.\n\n1. We scraped the Wikipedia page and wrangled the data, cleaned it, and then read it into a panda\u2019s data frame.We then acquired the latitudes and longitudes for these neighbourhoods in Toronto from the https://cocl.us/Geospatial_data.\n\n2. Once we have the list of neighbourhoods and their geographical coordinates, the next step in the analysis was to obtain amenities in each neighbourhood. For that we used Four Square api\u2019s to gather information about the venues in each neighbourhood.\n\n      - First, we used Four Square \u2018explore\u2019 query to get the information about different venues and venue categories with in 1000 meter of each neighbourhood.\n\n      - We then assigned General Categories such as \"Food and Dine\", \"Arts and Entertainment\", \"Stores and Utilities\" etc to all the Venue categories by grouping the similar venue categories.\n\n      - We then once again used the Four Square api to get specific information pertaining to \u201cSchools\u201d and \u201cHospitals\u201d. Four that we used the \u2018search\u2019 query. We categorised that as \u201cEducational\u201d and \u201cHospitals\u201d.\n\n\n3. Once we had all the required data, we did a one-hot encoding of the categories column and summarised it based on the neighbourhoods. Now our data is ready for Segmentation.\n\n4. We used k-means clustering to segment our neighbourhoods into 5 clusters.  We then added the cluster labels back to the data.\n\n5. After performing the clustering, we then focus on the cluster centres. The Group whose centre has the highest amenities (from Total Facilities) will be the suggested for \u201cthe Best neighbourhood\u201d.", 
            "cell_type": "markdown", 
            "metadata": {}
        }, 
        {
            "source": "### 4. Results", 
            "cell_type": "markdown", 
            "metadata": {}
        }, 
        {
            "source": "| Groups | Arts and Entertainment | Athletics and Sports | Educational | Food and Dine | Gym and Fitness Center | Health and Beauty Service | Hospitals | Others   | Recreation | Stores and Utilities | Transportation | Facilities |\n|--------|------------------------|----------------------|-------------|---------------|------------------------|---------------------------|-----------|----------|------------|----------------------|----------------|------------|\n| C3     | 8.272727               | 0.727273             | 48.636364   | 68.090909     | 2.545455               | 0.909091                  | 4.64E+00  | 3.727273 | 2.545455   | 12.272727            | 0.454545       | 152.818182 |\n| C1     | 5.090909               | 1                    | 21.545455   | 70.818182     | 3                      | 1.181818                  | 4.44E-16  | 2.454545 | 2.727273   | 13.272727            | 0.181818       | 121.272727 |\n| C4     | 4                      | 1.666667             | 12.5        | 53.333333     | 2.5                    | 1.166667                  | 3.33E-01  | 2.166667 | 7.666667   | 9.666667             | 1.333333       | 96.333333  |\n| C2     | 1.5                    | 1.833333             | 15.5        | 30.333333     | 2.333333               | 0.666667                  | 1.67E-01  | 1.666667 | 6          | 6.666667             | 0              | 66.666667  |\n| C5     | 0.25                   | 0.75                 | 9.75        | 7.5           | 0.5                    | 0.5                       | 5.00E-01  | 1.5      | 2.75       | 2.75                 | 0.75           | 27.5       |", 
            "cell_type": "markdown", 
            "metadata": {}
        }, 
        {
            "source": "From this we can see that the best cluster we got was _**Cluster 3**_, which has the following neighbourhoods.\n\n| Neighborhood                            | Postcode | Borough          | Latitude  | Longitude  | Arts and Entertainment | Athletics and Sports | Educational | Food and Dine | Gym and Fitness Center | Health and Beauty Service | Hospitals | Others | Recreation | Stores and Utilities | Transportation | Cluster |\n|-----------------------------------------|----------|------------------|-----------|------------|------------------------|----------------------|-------------|---------------|------------------------|---------------------------|-----------|--------|------------|----------------------|----------------|---------|\n| Church and Wellesley                    | M4Y      | Downtown Toronto | 43.66586  | -79.38316  | 9                      | 0                    | 50          | 70            | 2                      | 2                         | 6         | 4      | 3          | 10                   | 0              | 3       |\n| Ryerson,Garden District                 | M5B      | Downtown Toronto | 43.657162 | -79.378937 | 6                      | 0                    | 50          | 65            | 2                      | 1                         | 7         | 3      | 4          | 19                   | 0              | 3       |\n| St. James Town                          | M5C      | Downtown Toronto | 43.651494 | -79.375418 | 8                      | 0                    | 50          | 65            | 3                      | 0                         | 2         | 7      | 3          | 14                   | 0              | 3       |\n| Central Bay Street                      | M5G      | Downtown Toronto | 43.657952 | -79.387383 | 9                      | 0                    | 51          | 63            | 2                      | 2                         | 5         | 4      | 3          | 16                   | 0              | 3       |\n| Adelaide,King,Richmond                  | M5H      | Downtown Toronto | 43.650571 | -79.384568 | 13                     | 0                    | 51          | 60            | 4                      | 2                         | 6         | 4      | 1          | 14                   | 1              | 3       |\n| Design Exchange,Toronto Dominion Centre | M5K      | Downtown Toronto | 43.647177 | -79.381576 | 8                      | 2                    | 48          | 71            | 3                      | 1                         | 3         | 2      | 6          | 6                    | 1              | 3       |\n| Commerce Court,Victoria Hotel           | M5L      | Downtown Toronto | 43.648198 | -79.379817 | 7                      | 2                    | 49          | 70            | 3                      | 0                         | 3         | 5      | 3          | 9                    | 1              | 3       |\n| Harbord,University of Toronto           | M5S      | Downtown Toronto | 43.662696 | -79.400049 | 8                      | 0                    | 49          | 71            | 0                      | 0                         | 6         | 3      | 2          | 13                   | 0              | 3       |\n| Chinatown,Grange Park,Kensington Market | M5T      | Downtown Toronto | 43.653206 | -79.400049 | 8                      | 0                    | 44          | 74            | 3                      | 0                         | 5         | 2      | 0          | 13                   | 0              | 3       |\n| Stn A PO Boxes 25 The Esplanade         | M5W      | Downtown Toronto | 43.646435 | -79.374846 | 6                      | 2                    | 44          | 69            | 3                      | 0                         | 3         | 4      | 2          | 13                   | 1              | 3       |\n| First Canadian Place,Underground city   | M5X      | Downtown Toronto | 43.648429 | -79.38228  | 9                      | 2                    | 49          | 71            | 3                      | 2                         | 5         | 3      | 1          | 8                    | 1              | 3       |", 
            "cell_type": "markdown", 
            "metadata": {}
        }, 
        {
            "source": "The second-best cluster was _**Cluster 1**_", 
            "cell_type": "markdown", 
            "metadata": {}
        }, 
        {
            "source": "### 5 . Discussion", 
            "cell_type": "markdown", 
            "metadata": {}
        }, 
        {
            "source": "From the above Results, we can see that Cluster 3 is the best group in terms of the total amenities available. All the neighbourhoods that are part of this cluster display almost same level of spread in terms of the amenities that are available. We are not only giving the group of best neighbourhoods, but along with that we are also presenting the total amenities available for each category. Each cluster provides details pertaining to amenities like Food and Dine, Educational, Stores/Utilities and even hospitals etc to name a few. So, an individual based on his preferences can choose the neighbourhood which suits him the best. For e.g. we can see that above cluster all neighbourhoods are having a high density in categories like Food and Dine, Educational, Stores/Utilities and even hospitals. So, beyond these amenities he has an option of scouting for additional facilities like Arts and Entertainments or Recreations or Athletics and Sports etc if he wishes so.", 
            "cell_type": "markdown", 
            "metadata": {}
        }, 
        {
            "source": "For Example:\n\n\n| Neighbourhood                           | Postal code | Borough          | Latitude  | Longitude  | Arts and Entertainment | Athletics and Sports | Educational | Food and Dine | Gym and  Fitness | Health and Beauty | Hospitals | Others | Recreation | Stores and Utilities | Transport |\n|-----------------------------------------|-------------|------------------|-----------|------------|------------------------|----------------------|-------------|---------------|------------------|-------------------|-----------|--------|------------|----------------------|-----------|\n| Design Exchange,Toronto Dominion Centre | M5K         | Downtown Toronto | 43.647177 | -79.381576 | 8                      | 2                    | 48          | 71            | 3                | 1                 | 3         | 2      | 6          | 6                    | 1         |", 
            "cell_type": "markdown", 
            "metadata": {}
        }, 
        {
            "source": "| Neighbourhood                         | Postalcode | Borough          | Latitude  | Longitude | Arts and Entertainment | Athletics and Sports | Educational | Food and Dine | Gym and  Fitness | Health and Beauty | Hospitals | Others | Recreation | Stores and Utilities | Transport |\n|---------------------------------------|------------|------------------|-----------|-----------|------------------------|----------------------|-------------|---------------|------------------|-------------------|-----------|--------|------------|----------------------|-----------|\n| First Canadian Place,Underground city | M5X        | Downtown Toronto | 43.648429 | -79.38228 | 9                      | 2                    | 49          | 71            | 3                | 2                 | 5         | 3      | 1          | 8                    | 1         |\n", 
            "cell_type": "markdown", 
            "metadata": {}
        }, 
        {
            "source": "An individual can go with any of the above neighbourhood, if he wants a little of everything along with high values for Food and Dine, Education etc.", 
            "cell_type": "markdown", 
            "metadata": {}
        }, 
        {
            "source": "### 6 . Conclusion", 
            "cell_type": "markdown", 
            "metadata": {}
        }, 
        {
            "source": "We started this Project with the intent to find answer to the below mentioned query:\n\n***\"Is it possible for an Individual to get a detailed information about possible neighborhoods in and around Toronto and also the amenties that are available in those neighborhoods even before starting his Journey?\"***\n\nThe ***Reccomender System*** is an effective tool to answer this problem.\n\nWe have approached this problem from an Immigrant standpoint, but solution to this holds relevance at both local and global level. In this connected world where people are moving and migrating more than ever,any system or method that can provide simple and effective solution in dispelling the uncertainity related to lack of knowledge about proposed place and surrounding neighborhoods will be an effective tool to have before making the move. As mentioned above we have taken Toronto as an example in this case study, but the Recommender system can be implemented across geographies as long as we have the required Geo-locational data available. The locational data provided by the locational data providers like Four Square, Google Places etc. can help us fine tune and adapt the system to granular level of information that we need, to cater to our specific needs.", 
            "cell_type": "markdown", 
            "metadata": {}
        }
    ], 
    "metadata": {
        "kernelspec": {
            "display_name": "Python 3.5", 
            "name": "python3", 
            "language": "python"
        }, 
        "language_info": {
            "mimetype": "text/x-python", 
            "nbconvert_exporter": "python", 
            "version": "3.5.5", 
            "name": "python", 
            "file_extension": ".py", 
            "pygments_lexer": "ipython3", 
            "codemirror_mode": {
                "version": 3, 
                "name": "ipython"
            }
        }
    }, 
    "nbformat": 4
}